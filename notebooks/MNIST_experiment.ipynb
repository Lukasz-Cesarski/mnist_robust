{
 "cells": [
  {
   "cell_type": "code",
   "execution_count": 1,
   "metadata": {},
   "outputs": [],
   "source": [
    "%load_ext autoreload\n",
    "%autoreload 2\n",
    "\n",
    "%cd -q .."
   ]
  },
  {
   "cell_type": "code",
   "execution_count": 2,
   "metadata": {},
   "outputs": [],
   "source": [
    "import os\n",
    "from datetime import datetime\n",
    "\n",
    "# DATA SCIENCE\n",
    "import numpy as np\n",
    "import pandas as pd\n",
    "\n",
    "# PYTORCH\n",
    "import torch\n",
    "import torchvision\n",
    "import torchvision.datasets as datasets\n",
    "\n",
    "# PLOTLY\n",
    "import plotly.graph_objects as go\n",
    "from plotly.subplots import make_subplots\n",
    "import plotly.express as px\n",
    "\n",
    "# MATPLOTLIB\n",
    "import matplotlib.pyplot as plt\n",
    "\n",
    "# PROJECT\n",
    "import base\n",
    "from plots.images import plot_images_matplotlib, plot_images_plotly\n",
    "from tensorutils import describe\n",
    "from experiment import Experiment\n",
    "from models.linear_regression import LinearRegression\n",
    "from models.triple_dense import TripleDense\n",
    "from data_loaders.transformations import ReshapeTransform"
   ]
  },
  {
   "cell_type": "code",
   "execution_count": 3,
   "metadata": {},
   "outputs": [],
   "source": [
    "data_dir = base.DIR_DATA\n",
    "batch_size = 256\n",
    "loss_fn = torch.nn.CrossEntropyLoss()\n",
    "# MEAN = 0.1307\n",
    "# STD  = 0.3081\n",
    "MEAN = 0.5\n",
    "STD  = 0.5\n",
    "\n",
    "transformations = torchvision.transforms.Compose(\n",
    "    [\n",
    "        torchvision.transforms.ToTensor(),\n",
    "        torchvision.transforms.Normalize(\n",
    "            (MEAN,), (STD,)\n",
    "        ),\n",
    "        ReshapeTransform((-1,)),\n",
    "\n",
    "    ]\n",
    ")\n",
    "\n",
    "train_dataset = datasets.MNIST(root=data_dir, train=True, transform=transformations)\n",
    "test_dataset = datasets.MNIST(root=data_dir, train=False, transform=transformations)\n",
    "\n",
    "data_shape = train_dataset.data.shape[1:]\n",
    "x_dim = data_shape[0]*data_shape[0]\n",
    "n_labels = len(train_dataset.classes)\n",
    "\n",
    "# to use small dataset\n",
    "# train_dataset, _ = torch.utils.data.random_split(train_dataset, [10000, 50000])\n",
    "\n",
    "train_loader = torch.utils.data.DataLoader(train_dataset, batch_size=batch_size, shuffle=True, num_workers=3)\n",
    "test_loader = torch.utils.data.DataLoader(test_dataset, batch_size=batch_size, shuffle=False, num_workers=3)"
   ]
  },
  {
   "cell_type": "code",
   "execution_count": 4,
   "metadata": {},
   "outputs": [],
   "source": [
    "hidden1 = 500\n",
    "hidden2 = 300\n",
    "model = TripleDense(x_dim, hidden1, hidden2, n_labels)"
   ]
  },
  {
   "cell_type": "code",
   "execution_count": 24,
   "metadata": {},
   "outputs": [],
   "source": [
    "# device = 'cpu'\n",
    "# device = 'cuda'\n",
    "device = None\n",
    "optimizer_class = torch.optim.Adagrad\n",
    "experiment = Experiment(model, loss_fn, device=device, optimizer_class=optimizer_class)"
   ]
  },
  {
   "cell_type": "code",
   "execution_count": 25,
   "metadata": {},
   "outputs": [],
   "source": [
    "# start = datetime.now()\n",
    "# experiment.train_model(train_loader=train_loader, num_epochs=10, valid_loader=test_loader, validate_every=2)\n",
    "\n",
    "# last = datetime.now() - start\n",
    "# print(\"Lasted = {}\".format(last))"
   ]
  },
  {
   "cell_type": "code",
   "execution_count": 34,
   "metadata": {},
   "outputs": [
    {
     "name": "stdout",
     "output_type": "stream",
     "text": [
      "TRAINING:    epoch:      0, loss=839.4858, acc=   0.00\n",
      "TRAINING:    epoch:    200, loss=12.4387, acc=   1.00\n",
      "TRAINING:    epoch:    400, loss= 2.3684, acc=   1.00\n",
      "TRAINING:    epoch:    600, loss= 1.0561, acc=   1.00\n",
      "TRAINING:    epoch:    800, loss= 0.8007, acc=   1.00\n",
      "TRAINING:    epoch:   1000, loss= 0.7353, acc=   1.00\n",
      "TRAINING:    epoch:   1200, loss= 0.7188, acc=   1.00\n",
      "TRAINING:    epoch:   1400, loss= 0.7115, acc=   1.00\n",
      "TRAINING:    epoch:   1600, loss= 0.7101, acc=   1.00\n",
      "TRAINING:    epoch:   1800, loss= 0.7077, acc=   1.00\n",
      "TRAINING:    epoch:   2000, loss= 0.7094, acc=   1.00\n",
      "Lasted = 0:00:14.038057\n"
     ]
    }
   ],
   "source": [
    "targets = torch.arange(10, device='cuda')\n",
    "start = datetime.now()\n",
    "num_epochs = 2000\n",
    "x_adv = experiment.train_adversarial(x_shape=(x_dim,), targets=targets, num_epochs=num_epochs, info_every=num_epochs//10)\n",
    "last = datetime.now() - start\n",
    "print(\"Lasted = {}\".format(last))"
   ]
  },
  {
   "cell_type": "code",
   "execution_count": 35,
   "metadata": {},
   "outputs": [
    {
     "data": {
      "text/plain": [
       "array([[0.78, 0.06, 0.01, 0.  , 0.12, 0.  , 0.01, 0.  , 0.01, 0.  ],\n",
       "       [0.03, 0.84, 0.01, 0.02, 0.03, 0.  , 0.01, 0.01, 0.02, 0.02],\n",
       "       [0.01, 0.07, 0.76, 0.02, 0.06, 0.01, 0.01, 0.01, 0.05, 0.  ],\n",
       "       [0.  , 0.01, 0.07, 0.69, 0.01, 0.03, 0.  , 0.02, 0.13, 0.05],\n",
       "       [0.06, 0.01, 0.  , 0.  , 0.92, 0.  , 0.  , 0.  , 0.  , 0.  ],\n",
       "       [0.04, 0.05, 0.02, 0.04, 0.01, 0.6 , 0.03, 0.05, 0.11, 0.05],\n",
       "       [0.03, 0.02, 0.06, 0.01, 0.04, 0.03, 0.66, 0.01, 0.1 , 0.03],\n",
       "       [0.  , 0.03, 0.06, 0.06, 0.01, 0.01, 0.  , 0.79, 0.01, 0.02],\n",
       "       [0.05, 0.01, 0.03, 0.05, 0.02, 0.04, 0.02, 0.01, 0.7 , 0.07],\n",
       "       [0.03, 0.01, 0.02, 0.04, 0.03, 0.13, 0.02, 0.01, 0.15, 0.57]],\n",
       "      dtype=float32)"
      ]
     },
     "execution_count": 35,
     "metadata": {},
     "output_type": "execute_result"
    }
   ],
   "source": [
    "data = x_adv.cpu().numpy().reshape(-1, 28, 28)\n",
    "# vmax = 2\n",
    "# data = data.clip(-vmax,vmax)\n",
    "labels = targets.cpu().numpy()\n",
    "probs = experiment.predict(x_adv)\n",
    "probs = probs.detach().cpu().numpy()\n",
    "probs.round(2)"
   ]
  },
  {
   "cell_type": "code",
   "execution_count": 36,
   "metadata": {},
   "outputs": [
    {
     "data": {
      "image/png": "[encoded data removed]",
      "text/plain": [
       "<Figure size 1152x432 with 10 Axes>"
      ]
     },
     "metadata": {
      "needs_background": "light"
     },
     "output_type": "display_data"
    }
   ],
   "source": [
    "fig = plot_images_matplotlib(images=data, labels=targets, rows=2, cols=5)\n",
    "path = os.path.join(base.DIR_IMAGES, datetime.now().strftime(\"%Y-%M-%d_%H-%M-%S\")+'.png')\n",
    "fig.savefig(path)\n",
    "fig.show()"
   ]
  },
  {
   "cell_type": "code",
   "execution_count": null,
   "metadata": {},
   "outputs": [],
   "source": [
    "# plot_images_plotly(images=data, labels=targets, rows=3, cols=4)"
   ]
  },
  {
   "cell_type": "code",
   "execution_count": null,
   "metadata": {},
   "outputs": [],
   "source": [
    "data_hist = pd.DataFrame(data.reshape(-1, 28*28))\n",
    "data_hist['target']=targets.cpu()\n",
    "data_hist_melt = data_hist.melt(id_vars=['target'])\n",
    "px.histogram(data_hist_melt, x='value', facet_col='target', height=400, width=1200)"
   ]
  },
  {
   "cell_type": "code",
   "execution_count": null,
   "metadata": {},
   "outputs": [],
   "source": []
  },
  {
   "cell_type": "code",
   "execution_count": null,
   "metadata": {},
   "outputs": [],
   "source": []
  },
  {
   "cell_type": "code",
   "execution_count": null,
   "metadata": {},
   "outputs": [],
   "source": []
  }
 ],
 "metadata": {
  "kernelspec": {
   "display_name": "Python 3",
   "language": "python",
   "name": "python3"
  },
  "language_info": {
   "codemirror_mode": {
    "name": "ipython",
    "version": 3
   },
   "file_extension": ".py",
   "mimetype": "text/x-python",
   "name": "python",
   "nbconvert_exporter": "python",
   "pygments_lexer": "ipython3",
   "version": "3.6.9"
  }
 },
 "nbformat": 4,
 "nbformat_minor": 4
}
