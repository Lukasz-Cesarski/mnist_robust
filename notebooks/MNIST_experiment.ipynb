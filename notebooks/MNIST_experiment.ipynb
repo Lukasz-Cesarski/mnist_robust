{
 "cells": [
  {
   "cell_type": "code",
   "execution_count": null,
   "metadata": {},
   "outputs": [],
   "source": [
    "%load_ext autoreload\n",
    "%autoreload 2\n",
    "\n",
    "%cd -q .."
   ]
  },
  {
   "cell_type": "code",
   "execution_count": null,
   "metadata": {},
   "outputs": [],
   "source": [
    "import os\n",
    "from datetime import datetime\n",
    "\n",
    "# DATA SCIENCE\n",
    "import numpy as np\n",
    "import pandas as pd\n",
    "\n",
    "# PYTORCH\n",
    "import torch\n",
    "import torchvision\n",
    "import torchvision.datasets as datasets\n",
    "\n",
    "# PLOTLY\n",
    "import plotly.graph_objects as go\n",
    "from plotly.subplots import make_subplots\n",
    "\n",
    "# PROJECT\n",
    "import base\n",
    "from plots.images import plot_images\n",
    "from tensorutils import describe\n",
    "from experiment import Experiment\n",
    "from models.linear_regression import LinearRegression\n",
    "from models.triple_dense import TripleDense\n",
    "from data_loaders.transformations import ReshapeTransform"
   ]
  },
  {
   "cell_type": "code",
   "execution_count": null,
   "metadata": {},
   "outputs": [],
   "source": [
    "data_dir = base.DATA_DIR_NAME\n",
    "batch_size = 256\n",
    "loss_fn = torch.nn.CrossEntropyLoss()\n",
    "# MEAN = 0.1307\n",
    "# STD  = 0.3081\n",
    "MEAN = 0.5\n",
    "STD  = 0.5\n",
    "\n",
    "transformations = torchvision.transforms.Compose(\n",
    "    [\n",
    "        torchvision.transforms.ToTensor(),\n",
    "        torchvision.transforms.Normalize(\n",
    "            (MEAN,), (STD,)\n",
    "        ),\n",
    "        ReshapeTransform((-1,)),\n",
    "\n",
    "    ]\n",
    ")\n",
    "\n",
    "train_dataset = datasets.MNIST(root=data_dir, train=True, transform=transformations)\n",
    "test_dataset = datasets.MNIST(root=data_dir, train=False, transform=transformations)\n",
    "\n",
    "data_shape = train_dataset.data.shape[1:]\n",
    "x_dim = data_shape[0]*data_shape[0]\n",
    "n_labels = len(train_dataset.classes)\n",
    "\n",
    "# train_dataset, _ = torch.utils.data.random_split(train_dataset, [10000, 50000])\n",
    "\n",
    "train_loader = torch.utils.data.DataLoader(train_dataset, batch_size=batch_size, shuffle=True, num_workers=3)\n",
    "test_loader = torch.utils.data.DataLoader(test_dataset, batch_size=batch_size, shuffle=True, num_workers=3)"
   ]
  },
  {
   "cell_type": "code",
   "execution_count": null,
   "metadata": {},
   "outputs": [],
   "source": [
    "hidden1 = 500 # 300\n",
    "hidden2 = 300 # 100\n",
    "model = TripleDense(x_dim, hidden1, hidden2, n_labels)"
   ]
  },
  {
   "cell_type": "code",
   "execution_count": null,
   "metadata": {},
   "outputs": [],
   "source": [
    "# device = 'cpu'\n",
    "# device = 'cuda'\n",
    "device = None\n",
    "optimizer_class = torch.optim.Adam\n",
    "experiment = Experiment(model, loss_fn, device=device, optimizer_class=optimizer_class)"
   ]
  },
  {
   "cell_type": "code",
   "execution_count": null,
   "metadata": {},
   "outputs": [],
   "source": [
    "start = datetime.now()\n",
    "experiment.train_model(train_loader=train_loader, num_epochs=10, valid_loader=test_loader, validate_every=2)\n",
    "\n",
    "last = datetime.now() - start\n",
    "print(\"Lasted = {}\".format(last))"
   ]
  },
  {
   "cell_type": "code",
   "execution_count": null,
   "metadata": {},
   "outputs": [],
   "source": [
    "targets = torch.arange(10, device='cuda')\n",
    "start = datetime.now()\n",
    "x_adv = experiment.train_adversarial(x_shape=(x_dim,), targets=targets, num_epochs=20, info_every=5)\n",
    "last = datetime.now() - start\n",
    "print(\"Lasted = {}\".format(last))"
   ]
  },
  {
   "cell_type": "code",
   "execution_count": null,
   "metadata": {},
   "outputs": [],
   "source": [
    "data = x_adv.cpu().numpy().reshape(-1, 28, 28)\n",
    "vmax = 2\n",
    "data = data.clip(-vmax,vmax)\n",
    "labels = targets.cpu().numpy()"
   ]
  },
  {
   "cell_type": "code",
   "execution_count": null,
   "metadata": {
    "scrolled": false
   },
   "outputs": [],
   "source": [
    "plot_images(images=data, labels=labels)"
   ]
  },
  {
   "cell_type": "code",
   "execution_count": null,
   "metadata": {},
   "outputs": [],
   "source": [
    "x_adv.shape"
   ]
  },
  {
   "cell_type": "code",
   "execution_count": null,
   "metadata": {},
   "outputs": [],
   "source": [
    "probs = experiment.predict(x_adv)\n",
    "probs = probs.detach().cpu().numpy()\n",
    "probs"
   ]
  },
  {
   "cell_type": "code",
   "execution_count": null,
   "metadata": {},
   "outputs": [],
   "source": [
    "probs.round(2)"
   ]
  },
  {
   "cell_type": "code",
   "execution_count": null,
   "metadata": {},
   "outputs": [],
   "source": []
  },
  {
   "cell_type": "code",
   "execution_count": null,
   "metadata": {},
   "outputs": [],
   "source": []
  }
 ],
 "metadata": {
  "kernelspec": {
   "display_name": "Python 3",
   "language": "python",
   "name": "python3"
  },
  "language_info": {
   "codemirror_mode": {
    "name": "ipython",
    "version": 3
   },
   "file_extension": ".py",
   "mimetype": "text/x-python",
   "name": "python",
   "nbconvert_exporter": "python",
   "pygments_lexer": "ipython3",
   "version": "3.6.9"
  }
 },
 "nbformat": 4,
 "nbformat_minor": 2
}
